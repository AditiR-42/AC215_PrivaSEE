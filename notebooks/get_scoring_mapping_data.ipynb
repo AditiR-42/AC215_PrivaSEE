{
 "cells": [
  {
   "cell_type": "code",
   "execution_count": 3,
   "outputs": [],
   "source": [
    "from google.cloud import storage\n",
    "import os\n",
    "import io\n",
    "import pandas as pd\n",
    "from typing import List, Dict"
   ],
   "metadata": {
    "collapsed": false,
    "ExecuteTime": {
     "end_time": "2024-11-30T21:20:47.214336Z",
     "start_time": "2024-11-30T21:20:46.642246Z"
    }
   },
   "id": "a13b867f17bb63a8"
  },
  {
   "cell_type": "code",
   "execution_count": 4,
   "outputs": [
    {
     "name": "stdout",
     "output_type": "stream",
     "text": [
      "Current Working Directory: /Users/gumutoni/PycharmProjects/ac215/AC215_PrivaSEE/notebooks\n"
     ]
    }
   ],
   "source": [
    "print(\"Current Working Directory:\", os.getcwd())\n",
    "# Set the environment variable in Python\n",
    "os.environ[\"GOOGLE_APPLICATION_CREDENTIALS\"] = \"../../secrets/ac215-privasee-datapipeline.json\"\n",
    "# Initialize the GCS client\n",
    "storage_client = storage.Client()"
   ],
   "metadata": {
    "collapsed": false,
    "ExecuteTime": {
     "end_time": "2024-11-30T21:20:47.708156Z",
     "start_time": "2024-11-30T21:20:47.627010Z"
    }
   },
   "id": "9a2abdf1d69313a9"
  },
  {
   "cell_type": "code",
   "execution_count": 5,
   "outputs": [],
   "source": [
    "\n",
    "from typing import Dict\n"
   ],
   "metadata": {
    "collapsed": false,
    "ExecuteTime": {
     "end_time": "2024-11-30T21:20:48.157851Z",
     "start_time": "2024-11-30T21:20:48.152001Z"
    }
   },
   "id": "57bf92f23c048272"
  },
  {
   "cell_type": "code",
   "execution_count": 6,
   "outputs": [],
   "source": [
    "def upload_df_to_gcs(bucket_name, df, destination_blob_name):\n",
    "    \"\"\"Uploads a DataFrame as a CSV to GCS directly from memory.\"\"\"\n",
    "    # Convert DataFrame to CSV string\n",
    "    csv_data = df.to_csv(index=False)\n",
    "\n",
    "    # Get the bucket and blob objects\n",
    "    bucket = storage_client.bucket(bucket_name)\n",
    "    blob = bucket.blob(destination_blob_name)\n",
    "\n",
    "    # Upload the CSV string to GCS\n",
    "    blob.upload_from_string(csv_data, content_type='text/csv')\n",
    "\n",
    "    print(f\"Uploaded DataFrame to {destination_blob_name} in bucket {bucket_name}.\")\n",
    "\n",
    "def read_csv_from_gcs(bucket_name, source_blob_name):\n",
    "    \"\"\"Read a CSV file from GCS into a DataFrame.\"\"\"\n",
    "    bucket = storage_client.bucket(bucket_name)\n",
    "    blob = bucket.blob(source_blob_name)\n",
    "    # Download the CSV content as text (UTF-8)\n",
    "    content = blob.download_as_text()\n",
    "    # Read it directly into a DataFrame\n",
    "    return pd.read_csv(io.StringIO(content))\n",
    "def save_weights_to_csv(category_weights: Dict[str, float], filepath: str):\n",
    "    \"\"\"Save category weights to a simple CSV file.\"\"\"\n",
    "    df = pd.DataFrame({\n",
    "        'parent_category': category_weights.keys(),\n",
    "        'weight': category_weights.values()\n",
    "    })\n",
    "    df.to_csv(filepath, index=False)\n",
    "\n",
    "def load_weights_from_csv(filepath: str) -> Dict[str, float]:\n",
    "    \"\"\"Load category weights from CSV file into format needed by grader.\"\"\"\n",
    "    df = pd.read_csv(filepath)\n",
    "    return dict(zip(df['parent_category'], df['weight']))"
   ],
   "metadata": {
    "collapsed": false,
    "ExecuteTime": {
     "end_time": "2024-11-30T21:20:48.670588Z",
     "start_time": "2024-11-30T21:20:48.661330Z"
    }
   },
   "id": "b4e9e6d350bc2474"
  },
  {
   "cell_type": "markdown",
   "source": [
    "# CREATE REFERENCE MAP DF"
   ],
   "metadata": {
    "collapsed": false
   },
   "id": "6a55a3b970bcdab7"
  },
  {
   "cell_type": "code",
   "execution_count": 7,
   "outputs": [
    {
     "name": "stdout",
     "output_type": "stream",
     "text": [
      "cloud-ai-platform-9509774c-e619-4d85-a500-b2179d109f91\n",
      "legal-terms-data\n"
     ]
    }
   ],
   "source": [
    "# List all buckets in your project to confirm the client works\n",
    "buckets = list(storage_client.list_buckets())\n",
    "\n",
    "for bucket in buckets:\n",
    "    print(bucket.name)\n",
    "\n",
    "bucket_name = 'legal-terms-data'\n",
    "source_blob_name = 'tosdr-data/clean/cleaned_output2.csv'"
   ],
   "metadata": {
    "collapsed": false,
    "ExecuteTime": {
     "end_time": "2024-11-30T21:21:56.704459Z",
     "start_time": "2024-11-30T21:20:52.896235Z"
    }
   },
   "id": "5c44cf1e23db3ae7"
  },
  {
   "cell_type": "code",
   "execution_count": 12,
   "outputs": [],
   "source": [
    "df = read_csv_from_gcs(bucket_name, source_blob_name)"
   ],
   "metadata": {
    "collapsed": false,
    "ExecuteTime": {
     "end_time": "2024-11-30T21:26:13.712721Z",
     "start_time": "2024-11-30T21:25:12.113326Z"
    }
   },
   "id": "d6d745d48ec27478"
  },
  {
   "cell_type": "code",
   "execution_count": 13,
   "outputs": [
    {
     "data": {
      "text/plain": "   index  unnamed:_0 parent_privacy_issue                        topic_link  \\\n0      6           6            Ownership  https://edit.tosdr.org/topics/27   \n1     10          10            Ownership  https://edit.tosdr.org/topics/27   \n2     20          20            Ownership  https://edit.tosdr.org/topics/27   \n3     21          21            Ownership  https://edit.tosdr.org/topics/27   \n4     22          22            Ownership  https://edit.tosdr.org/topics/27   \n\n                                privacy_issue  \\\n0  This service takes credit for your content   \n1  This service takes credit for your content   \n2  This service takes credit for your content   \n3  This service takes credit for your content   \n4  This service takes credit for your content   \n\n                          case_link classification  weight     service  \\\n0  https://edit.tosdr.org/cases/179            bad    50.0  ShapeShift   \n1  https://edit.tosdr.org/cases/179            bad    50.0     FaceApp   \n2  https://edit.tosdr.org/cases/179            bad    50.0       Steam   \n3  https://edit.tosdr.org/cases/179            bad    50.0     YouTube   \n4  https://edit.tosdr.org/cases/179            bad    50.0     YouTube   \n\n                                               title  \\\n0  \"ShapeShift will be free to use any ideas, con...   \n1  \"You grant FaceApp consent to use the User Con...   \n2  \"<p>If you provide Valve with any feedback or ...   \n3                                          \"Service\"   \n4                                              \"And\"   \n\n                            title_link                 source_name  \\\n0   https://edit.tosdr.org/points/6611            Terms of Service   \n1   https://edit.tosdr.org/points/7381                Terms of Use   \n2  https://edit.tosdr.org/points/13352  Steam Subscriber Agreement   \n3  https://edit.tosdr.org/points/27364            Terms of Service   \n4  https://edit.tosdr.org/points/27365              Privacy Policy   \n\n                                         source_link rating  \\\n0  https://edit.tosdr.org/services/1548/annotate#...      E   \n1  https://edit.tosdr.org/services/1713/annotate#...      D   \n2  https://edit.tosdr.org/services/180/annotate#d...      D   \n3  https://edit.tosdr.org/services/274/annotate#d...      E   \n4  https://edit.tosdr.org/services/274/annotate#d...      E   \n\n                             document_text_shortened review_status  \\\n0  \">Terms of Service</a></h3>\\n        </div>\\n ...  NOT APPROVED   \n1  \">Terms of Use</a></h3>\\n        </div>\\n     ...  NOT APPROVED   \n2  \">Steam Subscriber Agreement</a></h3>\\n       ...  NOT APPROVED   \n3  \">Terms of Service</a></h3>\\n        </div>\\n ...  NOT APPROVED   \n4  \">Privacy Policy</a></h3>\\n        </div>\\n   ...  NOT APPROVED   \n\n                                     full_text_clean  \\\n0  Terms of Service                  CareersTesti...   \n1  Terms of Use                  You can see our ...   \n2  Steam Subscriber Agreement                   T...   \n3  Terms of Service                  Whats in the...   \n4  Privacy Policy                  When you use o...   \n\n                          privacy_issue_clean  \\\n0  This service takes credit for your content   \n1  This service takes credit for your content   \n2  This service takes credit for your content   \n3  This service takes credit for your content   \n4  This service takes credit for your content   \n\n                                  support_text_clean  \n0  ShapeShift will be free to use any ideas conce...  \n1  You grant FaceApp consent to use the User Cont...  \n2  If you provide Valve with any feedback or sugg...  \n3                                            Service  \n4                                                And  ",
      "text/html": "<div>\n<style scoped>\n    .dataframe tbody tr th:only-of-type {\n        vertical-align: middle;\n    }\n\n    .dataframe tbody tr th {\n        vertical-align: top;\n    }\n\n    .dataframe thead th {\n        text-align: right;\n    }\n</style>\n<table border=\"1\" class=\"dataframe\">\n  <thead>\n    <tr style=\"text-align: right;\">\n      <th></th>\n      <th>index</th>\n      <th>unnamed:_0</th>\n      <th>parent_privacy_issue</th>\n      <th>topic_link</th>\n      <th>privacy_issue</th>\n      <th>case_link</th>\n      <th>classification</th>\n      <th>weight</th>\n      <th>service</th>\n      <th>title</th>\n      <th>title_link</th>\n      <th>source_name</th>\n      <th>source_link</th>\n      <th>rating</th>\n      <th>document_text_shortened</th>\n      <th>review_status</th>\n      <th>full_text_clean</th>\n      <th>privacy_issue_clean</th>\n      <th>support_text_clean</th>\n    </tr>\n  </thead>\n  <tbody>\n    <tr>\n      <th>0</th>\n      <td>6</td>\n      <td>6</td>\n      <td>Ownership</td>\n      <td>https://edit.tosdr.org/topics/27</td>\n      <td>This service takes credit for your content</td>\n      <td>https://edit.tosdr.org/cases/179</td>\n      <td>bad</td>\n      <td>50.0</td>\n      <td>ShapeShift</td>\n      <td>\"ShapeShift will be free to use any ideas, con...</td>\n      <td>https://edit.tosdr.org/points/6611</td>\n      <td>Terms of Service</td>\n      <td>https://edit.tosdr.org/services/1548/annotate#...</td>\n      <td>E</td>\n      <td>\"&gt;Terms of Service&lt;/a&gt;&lt;/h3&gt;\\n        &lt;/div&gt;\\n ...</td>\n      <td>NOT APPROVED</td>\n      <td>Terms of Service                  CareersTesti...</td>\n      <td>This service takes credit for your content</td>\n      <td>ShapeShift will be free to use any ideas conce...</td>\n    </tr>\n    <tr>\n      <th>1</th>\n      <td>10</td>\n      <td>10</td>\n      <td>Ownership</td>\n      <td>https://edit.tosdr.org/topics/27</td>\n      <td>This service takes credit for your content</td>\n      <td>https://edit.tosdr.org/cases/179</td>\n      <td>bad</td>\n      <td>50.0</td>\n      <td>FaceApp</td>\n      <td>\"You grant FaceApp consent to use the User Con...</td>\n      <td>https://edit.tosdr.org/points/7381</td>\n      <td>Terms of Use</td>\n      <td>https://edit.tosdr.org/services/1713/annotate#...</td>\n      <td>D</td>\n      <td>\"&gt;Terms of Use&lt;/a&gt;&lt;/h3&gt;\\n        &lt;/div&gt;\\n     ...</td>\n      <td>NOT APPROVED</td>\n      <td>Terms of Use                  You can see our ...</td>\n      <td>This service takes credit for your content</td>\n      <td>You grant FaceApp consent to use the User Cont...</td>\n    </tr>\n    <tr>\n      <th>2</th>\n      <td>20</td>\n      <td>20</td>\n      <td>Ownership</td>\n      <td>https://edit.tosdr.org/topics/27</td>\n      <td>This service takes credit for your content</td>\n      <td>https://edit.tosdr.org/cases/179</td>\n      <td>bad</td>\n      <td>50.0</td>\n      <td>Steam</td>\n      <td>\"&lt;p&gt;If you provide Valve with any feedback or ...</td>\n      <td>https://edit.tosdr.org/points/13352</td>\n      <td>Steam Subscriber Agreement</td>\n      <td>https://edit.tosdr.org/services/180/annotate#d...</td>\n      <td>D</td>\n      <td>\"&gt;Steam Subscriber Agreement&lt;/a&gt;&lt;/h3&gt;\\n       ...</td>\n      <td>NOT APPROVED</td>\n      <td>Steam Subscriber Agreement                   T...</td>\n      <td>This service takes credit for your content</td>\n      <td>If you provide Valve with any feedback or sugg...</td>\n    </tr>\n    <tr>\n      <th>3</th>\n      <td>21</td>\n      <td>21</td>\n      <td>Ownership</td>\n      <td>https://edit.tosdr.org/topics/27</td>\n      <td>This service takes credit for your content</td>\n      <td>https://edit.tosdr.org/cases/179</td>\n      <td>bad</td>\n      <td>50.0</td>\n      <td>YouTube</td>\n      <td>\"Service\"</td>\n      <td>https://edit.tosdr.org/points/27364</td>\n      <td>Terms of Service</td>\n      <td>https://edit.tosdr.org/services/274/annotate#d...</td>\n      <td>E</td>\n      <td>\"&gt;Terms of Service&lt;/a&gt;&lt;/h3&gt;\\n        &lt;/div&gt;\\n ...</td>\n      <td>NOT APPROVED</td>\n      <td>Terms of Service                  Whats in the...</td>\n      <td>This service takes credit for your content</td>\n      <td>Service</td>\n    </tr>\n    <tr>\n      <th>4</th>\n      <td>22</td>\n      <td>22</td>\n      <td>Ownership</td>\n      <td>https://edit.tosdr.org/topics/27</td>\n      <td>This service takes credit for your content</td>\n      <td>https://edit.tosdr.org/cases/179</td>\n      <td>bad</td>\n      <td>50.0</td>\n      <td>YouTube</td>\n      <td>\"And\"</td>\n      <td>https://edit.tosdr.org/points/27365</td>\n      <td>Privacy Policy</td>\n      <td>https://edit.tosdr.org/services/274/annotate#d...</td>\n      <td>E</td>\n      <td>\"&gt;Privacy Policy&lt;/a&gt;&lt;/h3&gt;\\n        &lt;/div&gt;\\n   ...</td>\n      <td>NOT APPROVED</td>\n      <td>Privacy Policy                  When you use o...</td>\n      <td>This service takes credit for your content</td>\n      <td>And</td>\n    </tr>\n  </tbody>\n</table>\n</div>"
     },
     "execution_count": 13,
     "metadata": {},
     "output_type": "execute_result"
    }
   ],
   "source": [
    "df.head()"
   ],
   "metadata": {
    "collapsed": false,
    "ExecuteTime": {
     "end_time": "2024-11-30T21:26:13.802649Z",
     "start_time": "2024-11-30T21:26:13.706849Z"
    }
   },
   "id": "7b9a493f9d7e52e5"
  },
  {
   "cell_type": "code",
   "execution_count": 14,
   "outputs": [
    {
     "data": {
      "text/plain": "(30073, 19)"
     },
     "execution_count": 14,
     "metadata": {},
     "output_type": "execute_result"
    }
   ],
   "source": [
    "df.shape"
   ],
   "metadata": {
    "collapsed": false,
    "ExecuteTime": {
     "end_time": "2024-11-30T21:26:13.819868Z",
     "start_time": "2024-11-30T21:26:13.728651Z"
    }
   },
   "id": "604daccede6fb234"
  },
  {
   "cell_type": "markdown",
   "source": [
    "## mapping_Df"
   ],
   "metadata": {
    "collapsed": false
   },
   "id": "cb2bb298f8829db4"
  },
  {
   "cell_type": "code",
   "execution_count": 32,
   "outputs": [],
   "source": [
    "mapping_df=df[[\"parent_privacy_issue\",\"privacy_issue_clean\",\"classification\"]].drop_duplicates()\n",
    "mapping_df.reset_index(inplace= True, drop=True)\n",
    "mapping_df.rename(columns={'privacy_issue_clean': 'privacy_issue',                     'parent_privacy_issue':'parent_issue'\n",
    "                           }, inplace=True)"
   ],
   "metadata": {
    "collapsed": false,
    "ExecuteTime": {
     "end_time": "2024-11-30T21:31:51.606657Z",
     "start_time": "2024-11-30T21:31:51.574166Z"
    }
   },
   "id": "bd255e51d0d5a87f"
  },
  {
   "cell_type": "code",
   "execution_count": 33,
   "outputs": [
    {
     "data": {
      "text/plain": "  parent_issue                                      privacy_issue  \\\n0    Ownership         This service takes credit for your content   \n1    Ownership  If you offer suggestions to the service they b...   \n2    Ownership             You maintain ownership of your content   \n3    Ownership  This service can use your content for all thei...   \n4    Ownership  The service disables software that you are not...   \n\n  classification  \n0            bad  \n1            bad  \n2           good  \n3        neutral  \n4            bad  ",
      "text/html": "<div>\n<style scoped>\n    .dataframe tbody tr th:only-of-type {\n        vertical-align: middle;\n    }\n\n    .dataframe tbody tr th {\n        vertical-align: top;\n    }\n\n    .dataframe thead th {\n        text-align: right;\n    }\n</style>\n<table border=\"1\" class=\"dataframe\">\n  <thead>\n    <tr style=\"text-align: right;\">\n      <th></th>\n      <th>parent_issue</th>\n      <th>privacy_issue</th>\n      <th>classification</th>\n    </tr>\n  </thead>\n  <tbody>\n    <tr>\n      <th>0</th>\n      <td>Ownership</td>\n      <td>This service takes credit for your content</td>\n      <td>bad</td>\n    </tr>\n    <tr>\n      <th>1</th>\n      <td>Ownership</td>\n      <td>If you offer suggestions to the service they b...</td>\n      <td>bad</td>\n    </tr>\n    <tr>\n      <th>2</th>\n      <td>Ownership</td>\n      <td>You maintain ownership of your content</td>\n      <td>good</td>\n    </tr>\n    <tr>\n      <th>3</th>\n      <td>Ownership</td>\n      <td>This service can use your content for all thei...</td>\n      <td>neutral</td>\n    </tr>\n    <tr>\n      <th>4</th>\n      <td>Ownership</td>\n      <td>The service disables software that you are not...</td>\n      <td>bad</td>\n    </tr>\n  </tbody>\n</table>\n</div>"
     },
     "execution_count": 33,
     "metadata": {},
     "output_type": "execute_result"
    }
   ],
   "source": [
    "mapping_df.head()"
   ],
   "metadata": {
    "collapsed": false,
    "ExecuteTime": {
     "end_time": "2024-11-30T21:31:54.309567Z",
     "start_time": "2024-11-30T21:31:54.284188Z"
    }
   },
   "id": "96cc0d15c4973996"
  },
  {
   "cell_type": "code",
   "execution_count": 34,
   "outputs": [
    {
     "data": {
      "text/plain": "(258, 3)"
     },
     "execution_count": 34,
     "metadata": {},
     "output_type": "execute_result"
    }
   ],
   "source": [
    "mapping_df.shape"
   ],
   "metadata": {
    "collapsed": false,
    "ExecuteTime": {
     "end_time": "2024-11-30T21:31:58.401047Z",
     "start_time": "2024-11-30T21:31:58.369958Z"
    }
   },
   "id": "785be5b50bd34d71"
  },
  {
   "cell_type": "markdown",
   "source": [
    "### save it to gcp"
   ],
   "metadata": {
    "collapsed": false
   },
   "id": "ecab4bf21fa18369"
  },
  {
   "cell_type": "code",
   "execution_count": 36,
   "outputs": [],
   "source": [
    "mapping_df.to_csv(\"/Users/gumutoni/PycharmProjects/ac215/AC215_PrivaSEE/src/models/mapping_df.csv\")"
   ],
   "metadata": {
    "collapsed": false,
    "ExecuteTime": {
     "end_time": "2024-11-30T21:33:20.139177Z",
     "start_time": "2024-11-30T21:33:20.123885Z"
    }
   },
   "id": "1d7aaf24f6138414"
  },
  {
   "cell_type": "markdown",
   "source": [
    "## category weights"
   ],
   "metadata": {
    "collapsed": false
   },
   "id": "ada2ff69a4912053"
  },
  {
   "cell_type": "code",
   "execution_count": null,
   "outputs": [],
   "source": [
    "# Create cateogry weights\n",
    "# Define weights by importance tiers (1.0 = highest importance)\n",
    "category_weights = {\n",
    "    # Tier 1 (1.0) - Core Privacy and Data Rights\n",
    "    'Personal Data': 1.0,\n",
    "    'Types of Information Collected': 1.0,\n",
    "    'Security': 1.0,\n",
    "    'Third Parties': 1.0,\n",
    "    'Anonymity': 1.0,\n",
    "    \n",
    "    # Tier 2 (0.9) - User Control and Rights\n",
    "    'User Choice': 0.9,\n",
    "    'Right to Leave The Service': 0.9,\n",
    "    'Ownership': 0.9,\n",
    "    'Transparency': 0.9,\n",
    "    'Copyright License': 0.9,\n",
    "    \n",
    "    # Tier 3 (0.8) - Data Handling and Tracking\n",
    "    'Trackers': 0.8,\n",
    "    'Logs': 0.8,\n",
    "    'Business Transfers': 0.8,\n",
    "    'Advertising': 0.8,\n",
    "    \n",
    "    # Tier 4 (0.7) - Service Governance\n",
    "    'Law and Government Requests': 0.7,\n",
    "    'Jurisdiction and governing laws': 0.7,\n",
    "    'Dispute Resolution': 0.7,\n",
    "    'Suspension and Censorship': 0.7,\n",
    "    \n",
    "    # Tier 5 (0.6) - Terms and Changes\n",
    "    'Changes': 0.6,\n",
    "    'Notice of Changing Terms': 0.6,\n",
    "    'User Involvement in Changing Terms': 0.6,\n",
    "    'Governance': 0.6,\n",
    "    \n",
    "    # Tier 6 (0.5) - Other Categories\n",
    "    'Content': 0.5,\n",
    "    'Payments': 0.5,\n",
    "    'Guarantee': 0.5,\n",
    "    \n",
    "    # Tier 7 (0.3) - Misc/Special Cases\n",
    "    'Unclassified': 0.3,\n",
    "    '[Deprecated]': 0.3\n",
    "}\n",
    "\n"
   ],
   "metadata": {
    "collapsed": false
   },
   "id": "98442924bdf0a65b"
  },
  {
   "cell_type": "code",
   "execution_count": null,
   "outputs": [],
   "source": [
    "# Validation to ensure all categories are covered\n",
    "required_categories = [\n",
    "    'Ownership', 'Governance', 'Guarantee', 'User Involvement in Changing Terms',\n",
    "    'Changes', 'Unclassified', 'Jurisdiction and governing laws',\n",
    "    'Notice of Changing Terms', 'Suspension and Censorship', 'Business Transfers',\n",
    "    'Logs', 'Security', 'Payments', 'Content', 'Copyright License', 'Trackers',\n",
    "    'Personal Data', '[Deprecated]', 'Anonymity', 'Types of Information Collected',\n",
    "    'User Choice', 'Third Parties', 'Right to Leave The Service',\n",
    "    'Law and Government Requests', 'Advertising', 'Transparency', 'Dispute Resolution'\n",
    "]\n",
    "\n",
    "# # Check if all categories are covered\n",
    "# missing_categories = set(required_categories) - set(category_weights.keys())\n",
    "# if missing_categories:\n",
    "#     print(f\"Warning: Missing weights for categories: {missing_categories}\")\n",
    "# \n",
    "# # Print weights by tier for verification\n",
    "# for weight in sorted(set(category_weights.values()), reverse=True):\n",
    "#     print(f\"\\nTier (Weight: {weight}):\")\n",
    "#     categories = [cat for cat, w in category_weights.items() if w == weight]\n",
    "#     for cat in sorted(categories):\n",
    "#         print(f\"- {cat}\")"
   ],
   "metadata": {
    "collapsed": false
   },
   "id": "8c272599369004f7"
  },
  {
   "cell_type": "code",
   "execution_count": null,
   "outputs": [],
   "source": [
    "\n",
    "\n",
    "save_weights_to_csv(category_weights, '/Users/gumutoni/PycharmProjects/ac215/AC215_PrivaSEE/src/models/category_weights.csv')\n",
    "\n",
    "# Load weights for grader\n",
    "category_weights = load_weights_from_csv('category_weights.csv')\n"
   ],
   "metadata": {
    "collapsed": false
   },
   "id": "d0262eee4a38d330"
  }
 ],
 "metadata": {
  "kernelspec": {
   "display_name": "Python 3",
   "language": "python",
   "name": "python3"
  },
  "language_info": {
   "codemirror_mode": {
    "name": "ipython",
    "version": 2
   },
   "file_extension": ".py",
   "mimetype": "text/x-python",
   "name": "python",
   "nbconvert_exporter": "python",
   "pygments_lexer": "ipython2",
   "version": "2.7.6"
  },
  "colab": {
   "provenance": [],
   "name": "modeling_data.ipynb"
  }
 },
 "nbformat": 4,
 "nbformat_minor": 5
}
