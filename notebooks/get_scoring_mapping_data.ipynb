{
 "cells": [
  {
   "cell_type": "code",
   "execution_count": null,
   "outputs": [],
   "source": [
    "import os"
   ],
   "metadata": {
    "collapsed": false
   },
   "id": "a13b867f17bb63a8"
  },
  {
   "cell_type": "code",
   "execution_count": null,
   "outputs": [],
   "source": [
    "print(\"Current Working Directory:\", os.getcwd())\n",
    "# Set the environment variable in Python\n",
    "os.environ[\"GOOGLE_APPLICATION_CREDENTIALS\"] = \"../../../secrets/ac215-privasee-datapipeline.json\"\n",
    "# Initialize the GCS client\n",
    "storage_client = storage.Client()"
   ],
   "metadata": {
    "collapsed": false
   },
   "id": "9a2abdf1d69313a9"
  },
  {
   "cell_type": "code",
   "execution_count": null,
   "outputs": [],
   "source": [
    "\n",
    "from typing import Dict\n"
   ],
   "metadata": {
    "collapsed": false
   },
   "id": "57bf92f23c048272"
  },
  {
   "cell_type": "code",
   "execution_count": null,
   "outputs": [],
   "source": [
    "def upload_df_to_gcs(bucket_name, df, destination_blob_name):\n",
    "    \"\"\"Uploads a DataFrame as a CSV to GCS directly from memory.\"\"\"\n",
    "    # Convert DataFrame to CSV string\n",
    "    csv_data = df.to_csv(index=False)\n",
    "\n",
    "    # Get the bucket and blob objects\n",
    "    bucket = storage_client.bucket(bucket_name)\n",
    "    blob = bucket.blob(destination_blob_name)\n",
    "\n",
    "    # Upload the CSV string to GCS\n",
    "    blob.upload_from_string(csv_data, content_type='text/csv')\n",
    "\n",
    "    print(f\"Uploaded DataFrame to {destination_blob_name} in bucket {bucket_name}.\")\n",
    "\n",
    "def read_csv_from_gcs(bucket_name, source_blob_name):\n",
    "    \"\"\"Read a CSV file from GCS into a DataFrame.\"\"\"\n",
    "    bucket = storage_client.bucket(bucket_name)\n",
    "    blob = bucket.blob(source_blob_name)\n",
    "    # Download the CSV content as text (UTF-8)\n",
    "    content = blob.download_as_text()\n",
    "    # Read it directly into a DataFrame\n",
    "    return pd.read_csv(io.StringIO(content))\n",
    "def save_weights_to_csv(category_weights: Dict[str, float], filepath: str):\n",
    "    \"\"\"Save category weights to a simple CSV file.\"\"\"\n",
    "    df = pd.DataFrame({\n",
    "        'parent_category': category_weights.keys(),\n",
    "        'weight': category_weights.values()\n",
    "    })\n",
    "    df.to_csv(filepath, index=False)\n",
    "\n",
    "def load_weights_from_csv(filepath: str) -> Dict[str, float]:\n",
    "    \"\"\"Load category weights from CSV file into format needed by grader.\"\"\"\n",
    "    df = pd.read_csv(filepath)\n",
    "    return dict(zip(df['parent_category'], df['weight']))"
   ],
   "metadata": {
    "collapsed": false
   },
   "id": "b4e9e6d350bc2474"
  },
  {
   "cell_type": "markdown",
   "source": [
    "# CREATE REFERENCE MAP DF"
   ],
   "metadata": {
    "collapsed": false
   },
   "id": "6a55a3b970bcdab7"
  },
  {
   "cell_type": "code",
   "execution_count": null,
   "outputs": [],
   "source": [
    "import pandas as pd\n",
    "from typing import List, Dict\n"
   ],
   "metadata": {
    "collapsed": false
   },
   "id": "4e444cd205cc4a44"
  },
  {
   "cell_type": "code",
   "execution_count": null,
   "outputs": [],
   "source": [
    "# List all buckets in your project to confirm the client works\n",
    "buckets = list(storage_client.list_buckets())\n",
    "\n",
    "for bucket in buckets:\n",
    "    print(bucket.name)\n",
    "\n",
    "bucket_name = 'legal-terms-data'\n",
    "source_blob_name = 'tosdr-data/clean/cleaned_output2.csv'\n",
    "df = read_csv_from_gcs(bucket_name, source_blob_name)"
   ],
   "metadata": {
    "collapsed": false
   },
   "id": "5c44cf1e23db3ae7"
  },
  {
   "cell_type": "code",
   "execution_count": null,
   "outputs": [],
   "source": [
    "df.head()"
   ],
   "metadata": {
    "collapsed": false
   },
   "id": "7b9a493f9d7e52e5"
  },
  {
   "cell_type": "markdown",
   "source": [
    "## mapping_Df"
   ],
   "metadata": {
    "collapsed": false
   },
   "id": "cb2bb298f8829db4"
  },
  {
   "cell_type": "code",
   "execution_count": null,
   "outputs": [],
   "source": [
    "mapping_df=df[[\"parent_privacy_issue\",\"privacy_issue_clean\"]].drop_duplicates()\n",
    "mapping_df.reset_index(inplace= True, drop=True)\n",
    "mapping_df.rename(columns={'privacy_issue_clean': 'privacy_issue',\n",
    "                           'parent_privacy_issue':'parent_issue'\n",
    "                           }, inplace=True)"
   ],
   "metadata": {
    "collapsed": false
   },
   "id": "bd255e51d0d5a87f"
  },
  {
   "cell_type": "code",
   "execution_count": null,
   "outputs": [],
   "source": [
    "mapping_df.head()"
   ],
   "metadata": {
    "collapsed": false
   },
   "id": "96cc0d15c4973996"
  },
  {
   "cell_type": "markdown",
   "source": [
    "### save it to gcp"
   ],
   "metadata": {
    "collapsed": false
   },
   "id": "ecab4bf21fa18369"
  },
  {
   "cell_type": "code",
   "execution_count": null,
   "outputs": [],
   "source": [
    "mapping_df.to_csv(\"/Users/gumutoni/PycharmProjects/ac215/AC215_PrivaSEE/src/models/mapping_df.csv\")"
   ],
   "metadata": {
    "collapsed": false
   },
   "id": "1d7aaf24f6138414"
  },
  {
   "cell_type": "markdown",
   "source": [
    "## category weights"
   ],
   "metadata": {
    "collapsed": false
   },
   "id": "ada2ff69a4912053"
  },
  {
   "cell_type": "code",
   "execution_count": null,
   "outputs": [],
   "source": [
    "# Create cateogry weights\n",
    "# Define weights by importance tiers (1.0 = highest importance)\n",
    "category_weights = {\n",
    "    # Tier 1 (1.0) - Core Privacy and Data Rights\n",
    "    'Personal Data': 1.0,\n",
    "    'Types of Information Collected': 1.0,\n",
    "    'Security': 1.0,\n",
    "    'Third Parties': 1.0,\n",
    "    'Anonymity': 1.0,\n",
    "    \n",
    "    # Tier 2 (0.9) - User Control and Rights\n",
    "    'User Choice': 0.9,\n",
    "    'Right to Leave The Service': 0.9,\n",
    "    'Ownership': 0.9,\n",
    "    'Transparency': 0.9,\n",
    "    'Copyright License': 0.9,\n",
    "    \n",
    "    # Tier 3 (0.8) - Data Handling and Tracking\n",
    "    'Trackers': 0.8,\n",
    "    'Logs': 0.8,\n",
    "    'Business Transfers': 0.8,\n",
    "    'Advertising': 0.8,\n",
    "    \n",
    "    # Tier 4 (0.7) - Service Governance\n",
    "    'Law and Government Requests': 0.7,\n",
    "    'Jurisdiction and governing laws': 0.7,\n",
    "    'Dispute Resolution': 0.7,\n",
    "    'Suspension and Censorship': 0.7,\n",
    "    \n",
    "    # Tier 5 (0.6) - Terms and Changes\n",
    "    'Changes': 0.6,\n",
    "    'Notice of Changing Terms': 0.6,\n",
    "    'User Involvement in Changing Terms': 0.6,\n",
    "    'Governance': 0.6,\n",
    "    \n",
    "    # Tier 6 (0.5) - Other Categories\n",
    "    'Content': 0.5,\n",
    "    'Payments': 0.5,\n",
    "    'Guarantee': 0.5,\n",
    "    \n",
    "    # Tier 7 (0.3) - Misc/Special Cases\n",
    "    'Unclassified': 0.3,\n",
    "    '[Deprecated]': 0.3\n",
    "}\n",
    "\n"
   ],
   "metadata": {
    "collapsed": false
   },
   "id": "98442924bdf0a65b"
  },
  {
   "cell_type": "code",
   "execution_count": null,
   "outputs": [],
   "source": [
    "# Validation to ensure all categories are covered\n",
    "required_categories = [\n",
    "    'Ownership', 'Governance', 'Guarantee', 'User Involvement in Changing Terms',\n",
    "    'Changes', 'Unclassified', 'Jurisdiction and governing laws',\n",
    "    'Notice of Changing Terms', 'Suspension and Censorship', 'Business Transfers',\n",
    "    'Logs', 'Security', 'Payments', 'Content', 'Copyright License', 'Trackers',\n",
    "    'Personal Data', '[Deprecated]', 'Anonymity', 'Types of Information Collected',\n",
    "    'User Choice', 'Third Parties', 'Right to Leave The Service',\n",
    "    'Law and Government Requests', 'Advertising', 'Transparency', 'Dispute Resolution'\n",
    "]\n",
    "\n",
    "# # Check if all categories are covered\n",
    "# missing_categories = set(required_categories) - set(category_weights.keys())\n",
    "# if missing_categories:\n",
    "#     print(f\"Warning: Missing weights for categories: {missing_categories}\")\n",
    "# \n",
    "# # Print weights by tier for verification\n",
    "# for weight in sorted(set(category_weights.values()), reverse=True):\n",
    "#     print(f\"\\nTier (Weight: {weight}):\")\n",
    "#     categories = [cat for cat, w in category_weights.items() if w == weight]\n",
    "#     for cat in sorted(categories):\n",
    "#         print(f\"- {cat}\")"
   ],
   "metadata": {
    "collapsed": false
   },
   "id": "8c272599369004f7"
  },
  {
   "cell_type": "code",
   "execution_count": null,
   "outputs": [],
   "source": [
    "\n",
    "\n",
    "save_weights_to_csv(category_weights, '/Users/gumutoni/PycharmProjects/ac215/AC215_PrivaSEE/src/models/category_weights.csv')\n",
    "\n",
    "# Load weights for grader\n",
    "category_weights = load_weights_from_csv('category_weights.csv')\n"
   ],
   "metadata": {
    "collapsed": false
   },
   "id": "d0262eee4a38d330"
  }
 ],
 "metadata": {
  "kernelspec": {
   "display_name": "Python 3",
   "language": "python",
   "name": "python3"
  },
  "language_info": {
   "codemirror_mode": {
    "name": "ipython",
    "version": 2
   },
   "file_extension": ".py",
   "mimetype": "text/x-python",
   "name": "python",
   "nbconvert_exporter": "python",
   "pygments_lexer": "ipython2",
   "version": "2.7.6"
  },
  "colab": {
   "provenance": [],
   "name": "modeling_data.ipynb"
  }
 },
 "nbformat": 4,
 "nbformat_minor": 5
}
